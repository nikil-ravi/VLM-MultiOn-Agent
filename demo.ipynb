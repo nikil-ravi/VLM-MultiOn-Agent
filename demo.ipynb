{
 "cells": [
  {
   "cell_type": "code",
   "execution_count": 2,
   "metadata": {},
   "outputs": [
    {
     "name": "stdout",
     "output_type": "stream",
     "text": [
      "Requirement already satisfied: requests in /Users/nikilravi/opt/anaconda3/envs/torch/lib/python3.10/site-packages (2.31.0)\n",
      "Requirement already satisfied: charset-normalizer<4,>=2 in /Users/nikilravi/opt/anaconda3/envs/torch/lib/python3.10/site-packages (from requests) (2.0.4)\n",
      "Requirement already satisfied: certifi>=2017.4.17 in /Users/nikilravi/opt/anaconda3/envs/torch/lib/python3.10/site-packages (from requests) (2022.12.7)\n",
      "Requirement already satisfied: urllib3<3,>=1.21.1 in /Users/nikilravi/opt/anaconda3/envs/torch/lib/python3.10/site-packages (from requests) (1.26.13)\n",
      "Requirement already satisfied: idna<4,>=2.5 in /Users/nikilravi/opt/anaconda3/envs/torch/lib/python3.10/site-packages (from requests) (3.4)\n",
      "Requirement already satisfied: ipywidgets in /Users/nikilravi/opt/anaconda3/envs/torch/lib/python3.10/site-packages (8.0.4)\n",
      "Requirement already satisfied: jupyterlab-widgets~=3.0 in /Users/nikilravi/opt/anaconda3/envs/torch/lib/python3.10/site-packages (from ipywidgets) (3.0.5)\n",
      "Requirement already satisfied: widgetsnbextension~=4.0 in /Users/nikilravi/opt/anaconda3/envs/torch/lib/python3.10/site-packages (from ipywidgets) (4.0.5)\n",
      "Requirement already satisfied: ipython>=6.1.0 in /Users/nikilravi/opt/anaconda3/envs/torch/lib/python3.10/site-packages (from ipywidgets) (7.34.0)\n",
      "Requirement already satisfied: ipykernel>=4.5.1 in /Users/nikilravi/opt/anaconda3/envs/torch/lib/python3.10/site-packages (from ipywidgets) (6.19.4)\n",
      "Requirement already satisfied: traitlets>=4.3.1 in /Users/nikilravi/opt/anaconda3/envs/torch/lib/python3.10/site-packages (from ipywidgets) (5.8.0)\n",
      "Requirement already satisfied: packaging in /Users/nikilravi/opt/anaconda3/envs/torch/lib/python3.10/site-packages (from ipykernel>=4.5.1->ipywidgets) (22.0)\n",
      "Requirement already satisfied: tornado>=6.1 in /Users/nikilravi/opt/anaconda3/envs/torch/lib/python3.10/site-packages (from ipykernel>=4.5.1->ipywidgets) (6.2)\n",
      "Requirement already satisfied: pyzmq>=17 in /Users/nikilravi/opt/anaconda3/envs/torch/lib/python3.10/site-packages (from ipykernel>=4.5.1->ipywidgets) (24.0.1)\n",
      "Requirement already satisfied: psutil in /Users/nikilravi/opt/anaconda3/envs/torch/lib/python3.10/site-packages (from ipykernel>=4.5.1->ipywidgets) (5.9.4)\n",
      "Requirement already satisfied: matplotlib-inline>=0.1 in /Users/nikilravi/opt/anaconda3/envs/torch/lib/python3.10/site-packages (from ipykernel>=4.5.1->ipywidgets) (0.1.6)\n",
      "Requirement already satisfied: jupyter-client>=6.1.12 in /Users/nikilravi/opt/anaconda3/envs/torch/lib/python3.10/site-packages (from ipykernel>=4.5.1->ipywidgets) (7.4.8)\n",
      "Requirement already satisfied: comm>=0.1.1 in /Users/nikilravi/opt/anaconda3/envs/torch/lib/python3.10/site-packages (from ipykernel>=4.5.1->ipywidgets) (0.1.2)\n",
      "Requirement already satisfied: nest-asyncio in /Users/nikilravi/opt/anaconda3/envs/torch/lib/python3.10/site-packages (from ipykernel>=4.5.1->ipywidgets) (1.5.6)\n",
      "Requirement already satisfied: appnope in /Users/nikilravi/opt/anaconda3/envs/torch/lib/python3.10/site-packages (from ipykernel>=4.5.1->ipywidgets) (0.1.3)\n",
      "Requirement already satisfied: debugpy>=1.0 in /Users/nikilravi/opt/anaconda3/envs/torch/lib/python3.10/site-packages (from ipykernel>=4.5.1->ipywidgets) (1.6.4)\n",
      "Requirement already satisfied: setuptools>=18.5 in /Users/nikilravi/opt/anaconda3/envs/torch/lib/python3.10/site-packages (from ipython>=6.1.0->ipywidgets) (65.5.0)\n",
      "Requirement already satisfied: prompt-toolkit!=3.0.0,!=3.0.1,<3.1.0,>=2.0.0 in /Users/nikilravi/opt/anaconda3/envs/torch/lib/python3.10/site-packages (from ipython>=6.1.0->ipywidgets) (3.0.36)\n",
      "Requirement already satisfied: pygments in /Users/nikilravi/opt/anaconda3/envs/torch/lib/python3.10/site-packages (from ipython>=6.1.0->ipywidgets) (2.14.0)\n",
      "Requirement already satisfied: decorator in /Users/nikilravi/opt/anaconda3/envs/torch/lib/python3.10/site-packages (from ipython>=6.1.0->ipywidgets) (5.1.1)\n",
      "Requirement already satisfied: pickleshare in /Users/nikilravi/opt/anaconda3/envs/torch/lib/python3.10/site-packages (from ipython>=6.1.0->ipywidgets) (0.7.5)\n",
      "Requirement already satisfied: pexpect>4.3 in /Users/nikilravi/opt/anaconda3/envs/torch/lib/python3.10/site-packages (from ipython>=6.1.0->ipywidgets) (4.8.0)\n",
      "Requirement already satisfied: jedi>=0.16 in /Users/nikilravi/opt/anaconda3/envs/torch/lib/python3.10/site-packages (from ipython>=6.1.0->ipywidgets) (0.18.2)\n",
      "Requirement already satisfied: backcall in /Users/nikilravi/opt/anaconda3/envs/torch/lib/python3.10/site-packages (from ipython>=6.1.0->ipywidgets) (0.2.0)\n",
      "Requirement already satisfied: parso<0.9.0,>=0.8.0 in /Users/nikilravi/opt/anaconda3/envs/torch/lib/python3.10/site-packages (from jedi>=0.16->ipython>=6.1.0->ipywidgets) (0.8.3)\n",
      "Requirement already satisfied: python-dateutil>=2.8.2 in /Users/nikilravi/opt/anaconda3/envs/torch/lib/python3.10/site-packages (from jupyter-client>=6.1.12->ipykernel>=4.5.1->ipywidgets) (2.8.2)\n",
      "Requirement already satisfied: entrypoints in /Users/nikilravi/opt/anaconda3/envs/torch/lib/python3.10/site-packages (from jupyter-client>=6.1.12->ipykernel>=4.5.1->ipywidgets) (0.4)\n",
      "Requirement already satisfied: jupyter-core>=4.9.2 in /Users/nikilravi/opt/anaconda3/envs/torch/lib/python3.10/site-packages (from jupyter-client>=6.1.12->ipykernel>=4.5.1->ipywidgets) (5.1.2)\n",
      "Requirement already satisfied: ptyprocess>=0.5 in /Users/nikilravi/opt/anaconda3/envs/torch/lib/python3.10/site-packages (from pexpect>4.3->ipython>=6.1.0->ipywidgets) (0.7.0)\n",
      "Requirement already satisfied: wcwidth in /Users/nikilravi/opt/anaconda3/envs/torch/lib/python3.10/site-packages (from prompt-toolkit!=3.0.0,!=3.0.1,<3.1.0,>=2.0.0->ipython>=6.1.0->ipywidgets) (0.2.5)\n",
      "Requirement already satisfied: platformdirs>=2.5 in /Users/nikilravi/opt/anaconda3/envs/torch/lib/python3.10/site-packages (from jupyter-core>=4.9.2->jupyter-client>=6.1.12->ipykernel>=4.5.1->ipywidgets) (2.6.2)\n",
      "Requirement already satisfied: six>=1.5 in /Users/nikilravi/opt/anaconda3/envs/torch/lib/python3.10/site-packages (from python-dateutil>=2.8.2->jupyter-client>=6.1.12->ipykernel>=4.5.1->ipywidgets) (1.16.0)\n"
     ]
    }
   ],
   "source": [
    "!pip install requests\n",
    "!pip install ipywidgets"
   ]
  },
  {
   "cell_type": "code",
   "execution_count": 3,
   "metadata": {},
   "outputs": [],
   "source": [
    "import ipywidgets as widgets\n",
    "from IPython.display import display, Image\n",
    "import requests\n",
    "from io import BytesIO"
   ]
  },
  {
   "cell_type": "code",
   "execution_count": 22,
   "metadata": {},
   "outputs": [
    {
     "name": "stdout",
     "output_type": "stream",
     "text": [
      "{'detail': 'Method Not Allowed'}\n"
     ]
    }
   ],
   "source": [
    "import requests\n",
    "\n",
    "response = requests.get('http://localhost:8000/upload/')\n",
    "print(response.json())"
   ]
  },
  {
   "cell_type": "code",
   "execution_count": 24,
   "metadata": {},
   "outputs": [
    {
     "data": {
      "application/vnd.jupyter.widget-view+json": {
       "model_id": "708fd13b79624802af048276db56baff",
       "version_major": 2,
       "version_minor": 0
      },
      "text/plain": [
       "Text(value='', description='Text:', placeholder='Enter some text...')"
      ]
     },
     "metadata": {},
     "output_type": "display_data"
    },
    {
     "data": {
      "application/vnd.jupyter.widget-view+json": {
       "model_id": "53a16f7e1f3b447295e223f2ed4ec92d",
       "version_major": 2,
       "version_minor": 0
      },
      "text/plain": [
       "FileUpload(value=(), accept='image/*', description='Upload')"
      ]
     },
     "metadata": {},
     "output_type": "display_data"
    },
    {
     "data": {
      "application/vnd.jupyter.widget-view+json": {
       "model_id": "7efe949b1570471083f3ac0793696760",
       "version_major": 2,
       "version_minor": 0
      },
      "text/plain": [
       "Button(description='Upload', style=ButtonStyle())"
      ]
     },
     "metadata": {},
     "output_type": "display_data"
    },
    {
     "data": {
      "application/vnd.jupyter.widget-view+json": {
       "model_id": "40cbf08475fb485ea800773365e73234",
       "version_major": 2,
       "version_minor": 0
      },
      "text/plain": [
       "Output()"
      ]
     },
     "metadata": {},
     "output_type": "display_data"
    }
   ],
   "source": [
    "import ipywidgets as widgets\n",
    "from IPython.display import display, Image\n",
    "import requests\n",
    "import io\n",
    "import PIL.Image as Image\n",
    "\n",
    "# Widgets\n",
    "text_input = widgets.Text(placeholder='Enter some text...', description='Text:')\n",
    "upload = widgets.FileUpload(accept='image/*', multiple=False)\n",
    "button = widgets.Button(description=\"Upload\")\n",
    "output = widgets.Output()\n",
    "\n",
    "# Button click event handler\n",
    "def on_button_clicked(b):\n",
    "    with output:\n",
    "        output.clear_output()\n",
    "        if upload.value:\n",
    "            print(upload)\n",
    "            print(upload.value)\n",
    "            print(upload.value[0])\n",
    "            uploaded_file = upload.value[0]  # Getting the first uploaded file\n",
    "            print(uploaded_file)\n",
    "            content = uploaded_file['content']\n",
    "            img = Image.open(io.BytesIO(content)).convert('RGB')\n",
    "            display(img)\n",
    "            print(\"Text:\", text_input.value)\n",
    "            \n",
    "            # Sending to the API\n",
    "            url = 'http://127.0.0.1:8000/'  # Change to your actual FastAPI endpoint\n",
    "            files = {'file': ('filename', BytesIO(content), uploaded_file['type'])}\n",
    "            data = {'input_text': text_input.value}\n",
    "            response = requests.post(url, files=files, data=data)\n",
    "            print(response.json())\n",
    "\n",
    "button.on_click(on_button_clicked)\n",
    "\n",
    "# Display widgets\n",
    "display(text_input, upload, button, output)\n"
   ]
  },
  {
   "cell_type": "code",
   "execution_count": null,
   "metadata": {},
   "outputs": [],
   "source": []
  }
 ],
 "metadata": {
  "kernelspec": {
   "display_name": "torch",
   "language": "python",
   "name": "python3"
  },
  "language_info": {
   "codemirror_mode": {
    "name": "ipython",
    "version": 3
   },
   "file_extension": ".py",
   "mimetype": "text/x-python",
   "name": "python",
   "nbconvert_exporter": "python",
   "pygments_lexer": "ipython3",
   "version": "3.10.8"
  }
 },
 "nbformat": 4,
 "nbformat_minor": 2
}
